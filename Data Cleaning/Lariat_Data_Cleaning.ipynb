{
 "cells": [
  {
   "cell_type": "code",
   "execution_count": 40,
   "id": "ae0792da",
   "metadata": {},
   "outputs": [],
   "source": [
    "import pandas as pd\n",
    "import numpy as np\n",
    "import seaborn as sns\n",
    "\n",
    "#Import All Relevant Data into Data Frames\n",
    "rental_data_1 = pd.read_excel('branch_locations.xlsx')\n",
    "rental_data_2 = pd.read_excel('car_costs.xlsx')\n",
    "rental_data_3 = pd.read_excel('car_id_mapping.xlsx')\n",
    "rental_data_4 = pd.read_excel('car_revenue.xlsx')"
   ]
  },
  {
   "cell_type": "code",
   "execution_count": 16,
   "id": "647008e1-05a7-4a12-bc85-ce5eee69bafa",
   "metadata": {},
   "outputs": [
    {
     "name": "stdout",
     "output_type": "stream",
     "text": [
      "   branch_id         city    state  airport_ind\n",
      "0          1    Galveston    Texas        False\n",
      "1          2        Tampa  Florida         True\n",
      "2          3      Atlanta  Georgia         True\n",
      "3          4  San Antonio    Texas        False\n",
      "4          5   Fort Worth    Texas         True\n",
      "       car_id  car_cost_monthly  car_insurance\n",
      "0  8547510613            539.69          62.89\n",
      "1  7957998003            593.67         105.52\n",
      "2  4421017736            488.73         102.07\n",
      "3  4033257977            596.63         130.52\n",
      "4  7974122404            429.32          50.92\n",
      "       car_id       car_make car_model  car_model_year\n",
      "0  8547510613  Mercedes-Benz  CL-Class            2018\n",
      "1  7957998003       Cadillac       XLR            2017\n",
      "2  4421017736         Toyota   Corolla            2018\n",
      "3  4033257977           Ford  E-Series            2018\n",
      "4  7974122404            BMW        M5            2018\n",
      "    car_id rented_date  rented_length  branch_id  price_per_day  driver_age  \\\n",
      "0  2314614  2018-01-03              3         16            148          65   \n",
      "1  2314614  2018-01-26              1         39            103          58   \n",
      "2  2314614  2018-02-10              4         46            198          44   \n",
      "3  2314614  2018-02-20              6         32            237          51   \n",
      "4  2314614  2018-03-06              5         32             97          49   \n",
      "\n",
      "  driver_gender  accident_ind  \n",
      "0             M           NaN  \n",
      "1             M           NaN  \n",
      "2             F           1.0  \n",
      "3             M           NaN  \n",
      "4             F           NaN  \n"
     ]
    }
   ],
   "source": [
    "#display headers to see what is included in each\n",
    "print(rental_data_1.head(5))\n",
    "print(rental_data_2.head(5))\n",
    "print(rental_data_3.head(5))\n",
    "print(rental_data_4.head(5))"
   ]
  },
  {
   "cell_type": "code",
   "execution_count": 23,
   "id": "c73a1607-e56b-447b-9709-f932ea26dc84",
   "metadata": {},
   "outputs": [],
   "source": [
    "# My first goal is to merge all of this data into a single data frame of tidy data where the details from all available charts are included for each individual rental\n",
    "\n",
    "#Merging both sheets containing data about the car by car_id\n",
    "full_car_data = pd.merge(rental_data_3, rental_data_2, how=\"inner\", on='car_id')\n",
    "\n",
    "#Merging branch location data with rental revenue data\n",
    "location_revenue_data = pd.merge(rental_data_1, rental_data_4, how=\"inner\", on='branch_id')\n",
    "\n",
    "#Lastly merging those two frames to get a final set of tidy data\n",
    "\n",
    "tidy_rental_data = pd.merge(full_car_data, location_revenue_data, how=\"inner\", on='car_id')"
   ]
  },
  {
   "cell_type": "code",
   "execution_count": 44,
   "id": "ebf0cd56-f9dc-4ea1-a7ea-b17cdc6754d9",
   "metadata": {},
   "outputs": [
    {
     "name": "stdout",
     "output_type": "stream",
     "text": [
      "       car_id       car_make car_model  car_model_year  car_cost_monthly  \\\n",
      "0  8547510613  Mercedes-Benz  CL-Class            2018            539.69   \n",
      "1  8547510613  Mercedes-Benz  CL-Class            2018            539.69   \n",
      "2  8547510613  Mercedes-Benz  CL-Class            2018            539.69   \n",
      "3  8547510613  Mercedes-Benz  CL-Class            2018            539.69   \n",
      "4  8547510613  Mercedes-Benz  CL-Class            2018            539.69   \n",
      "\n",
      "   car_insurance  branch_id         city           state  airport_ind  \\\n",
      "0          62.89          3      Atlanta         Georgia         True   \n",
      "1          62.89          4  San Antonio           Texas        False   \n",
      "2          62.89          8      Raleigh  North Carolina         True   \n",
      "3          62.89          9   Birmingham         Alabama         True   \n",
      "4          62.89         13      Salinas      California         True   \n",
      "\n",
      "  rented_date  rented_length  price_per_day  driver_age driver_gender  \\\n",
      "0  2018-03-28              7            233          35             M   \n",
      "1  2018-05-11              2            250          55             F   \n",
      "2  2018-01-18              6            233          58             M   \n",
      "3  2018-10-13              6             89          29             M   \n",
      "4  2018-09-10              6            133          55             F   \n",
      "\n",
      "   accident_ind  \n",
      "0           NaN  \n",
      "1           NaN  \n",
      "2           NaN  \n",
      "3           NaN  \n",
      "4           NaN  \n",
      "car_id                       int64\n",
      "car_make                    object\n",
      "car_model                   object\n",
      "car_model_year               int64\n",
      "car_cost_monthly           float64\n",
      "car_insurance              float64\n",
      "branch_id                    int64\n",
      "city                        object\n",
      "state                       object\n",
      "airport_ind                   bool\n",
      "rented_date         datetime64[ns]\n",
      "rented_length                int64\n",
      "price_per_day                int64\n",
      "driver_age                   int64\n",
      "driver_gender               object\n",
      "accident_ind               float64\n",
      "dtype: object\n"
     ]
    }
   ],
   "source": [
    "# Check Final Data\n",
    "print(tidy_rental_data.head(5))\n",
    "print(tidy_rental_data.dtypes)"
   ]
  },
  {
   "cell_type": "code",
   "execution_count": 46,
   "id": "a622101b-0e4e-4fd8-9100-308a175fb9b4",
   "metadata": {},
   "outputs": [],
   "source": [
    "#Both the tidy data frame and the one containing the full car data are useful and so will be exported to excel files\n",
    "\n",
    "writer = pd.ExcelWriter('Lariat_Analysis.xlsx', engine='xlsxwriter')\n",
    "tidy_rental_data.to_excel(writer, sheet_name='Rental Data')\n",
    "full_car_data.to_excel(writer, sheet_name='Fleet Data')\n",
    "writer.save()\n"
   ]
  },
  {
   "cell_type": "code",
   "execution_count": null,
   "id": "7bb4af36-33b3-466a-a3c6-f3131f8e2b59",
   "metadata": {},
   "outputs": [],
   "source": []
  }
 ],
 "metadata": {
  "kernelspec": {
   "display_name": "Python 3",
   "language": "python",
   "name": "python3"
  },
  "language_info": {
   "codemirror_mode": {
    "name": "ipython",
    "version": 3
   },
   "file_extension": ".py",
   "mimetype": "text/x-python",
   "name": "python",
   "nbconvert_exporter": "python",
   "pygments_lexer": "ipython3",
   "version": "3.8.8"
  }
 },
 "nbformat": 4,
 "nbformat_minor": 5
}
